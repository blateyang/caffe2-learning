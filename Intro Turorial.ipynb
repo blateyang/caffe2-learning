{
 "cells": [
  {
   "cell_type": "markdown",
   "metadata": {},
   "source": [
    "## Caffe2 Concepts\n",
    "### Blobs and Workspace,Tensor"
   ]
  },
  {
   "cell_type": "code",
   "execution_count": 2,
   "metadata": {},
   "outputs": [
    {
     "name": "stdout",
     "output_type": "stream",
     "text": [
      "[[[0.46941123 0.44155008 0.2736049 ]\n",
      "  [0.21484632 0.9609905  0.29437779]]\n",
      "\n",
      " [[0.01855038 0.26009939 0.38142868]\n",
      "  [0.93254492 0.50404126 0.29565106]]\n",
      "\n",
      " [[0.32619875 0.31005314 0.33727066]\n",
      "  [0.71978962 0.3776309  0.40083127]]]\n",
      "[[[0.46941123 0.44155008 0.2736049 ]\n",
      "  [0.21484632 0.9609905  0.29437779]]\n",
      "\n",
      " [[0.01855038 0.26009939 0.38142868]\n",
      "  [0.93254492 0.50404126 0.29565106]]\n",
      "\n",
      " [[0.32619875 0.31005314 0.33727066]\n",
      "  [0.71978962 0.3776309  0.40083127]]]\n",
      "(3, 2, 3)\n"
     ]
    }
   ],
   "source": [
    "from caffe2.python import workspace,model_helper\n",
    "import numpy as np\n",
    "x = np.random.rand(3,2,3)\n",
    "print x\n",
    "workspace.ResetWorkspace()\n",
    "workspace.FeedBlob('my_x', x)\n",
    "print workspace.FetchBlob('my_x')\n",
    "print workspace.FetchBlob('my_x').shape"
   ]
  },
  {
   "cell_type": "markdown",
   "metadata": {},
   "source": [
    "### Nets and Operators"
   ]
  },
  {
   "cell_type": "code",
   "execution_count": 5,
   "metadata": {},
   "outputs": [
    {
     "data": {
      "text/plain": [
       "True"
      ]
     },
     "execution_count": 5,
     "metadata": {},
     "output_type": "execute_result"
    }
   ],
   "source": [
    "# Create the input data\n",
    "data = np.random.rand(16,100).astype(np.float32)\n",
    "label = (np.random.rand(16)*10).astype(np.int32)\n",
    "workspace.FeedBlob('data', data)\n",
    "workspace.FeedBlob('label', label)"
   ]
  },
  {
   "cell_type": "code",
   "execution_count": 20,
   "metadata": {},
   "outputs": [
    {
     "name": "stdout",
     "output_type": "stream",
     "text": [
      "name: \"my first net\"\n",
      "op {\n",
      "  input: \"data\"\n",
      "  input: \"fc_w\"\n",
      "  input: \"fc_b\"\n",
      "  output: \"fc_1\"\n",
      "  name: \"\"\n",
      "  type: \"FC\"\n",
      "}\n",
      "op {\n",
      "  input: \"fc_1\"\n",
      "  output: \"pred\"\n",
      "  name: \"\"\n",
      "  type: \"Sigmoid\"\n",
      "}\n",
      "op {\n",
      "  input: \"pred\"\n",
      "  input: \"label\"\n",
      "  output: \"softmax\"\n",
      "  output: \"loss\"\n",
      "  name: \"\"\n",
      "  type: \"SoftmaxWithLoss\"\n",
      "}\n",
      "op {\n",
      "  input: \"loss\"\n",
      "  output: \"loss_autogen_grad\"\n",
      "  name: \"\"\n",
      "  type: \"ConstantFill\"\n",
      "  arg {\n",
      "    name: \"value\"\n",
      "    f: 1.0\n",
      "  }\n",
      "}\n",
      "op {\n",
      "  input: \"pred\"\n",
      "  input: \"label\"\n",
      "  input: \"softmax\"\n",
      "  input: \"loss_autogen_grad\"\n",
      "  output: \"pred_grad\"\n",
      "  name: \"\"\n",
      "  type: \"SoftmaxWithLossGradient\"\n",
      "  is_gradient_op: true\n",
      "}\n",
      "op {\n",
      "  input: \"pred\"\n",
      "  input: \"pred_grad\"\n",
      "  output: \"fc_1_grad\"\n",
      "  name: \"\"\n",
      "  type: \"SigmoidGradient\"\n",
      "  is_gradient_op: true\n",
      "}\n",
      "op {\n",
      "  input: \"data\"\n",
      "  input: \"fc_w\"\n",
      "  input: \"fc_1_grad\"\n",
      "  output: \"fc_w_grad\"\n",
      "  output: \"fc_b_grad\"\n",
      "  output: \"data_grad\"\n",
      "  name: \"\"\n",
      "  type: \"FCGradient\"\n",
      "  is_gradient_op: true\n",
      "}\n",
      "external_input: \"data\"\n",
      "external_input: \"fc_w\"\n",
      "external_input: \"fc_b\"\n",
      "external_input: \"label\"\n",
      "\n"
     ]
    }
   ],
   "source": [
    "# Create model using a model helper,will create two net:init_net for param initiate, exec_net for run\n",
    "m = model_helper.ModelHelper(name='my first net')  # if run this code block for mutiple times, the model name may change\n",
    "# Generate weight and bias\n",
    "weight = m.param_init_net.XavierFill([], 'fc_w', shape=[10,100])\n",
    "bias = m.param_init_net.ConstantFill([], 'fc_b', shape=[10,])\n",
    "# Build FC,Sigmoid and SoftmaxWithLoss\n",
    "fc_1 = m.net.FC(['data','fc_w','fc_b'], 'fc_1')\n",
    "pred = m.net.Sigmoid(fc_1, 'pred')\n",
    "softmax, loss = m.net.SoftmaxWithLoss([pred, 'label'], ['softmax', 'loss'])\n",
    "# Add backword pass\n",
    "m.AddGradientOperators([loss])\n",
    "print m.net.Proto()"
   ]
  },
  {
   "cell_type": "code",
   "execution_count": 23,
   "metadata": {},
   "outputs": [
    {
     "name": "stdout",
     "output_type": "stream",
     "text": [
      "name: \"ygj first net_init\"\n",
      "op {\n",
      "  output: \"fc_w\"\n",
      "  name: \"\"\n",
      "  type: \"XavierFill\"\n",
      "  arg {\n",
      "    name: \"shape\"\n",
      "    ints: 10\n",
      "    ints: 100\n",
      "  }\n",
      "}\n",
      "op {\n",
      "  output: \"fc_b\"\n",
      "  name: \"\"\n",
      "  type: \"ConstantFill\"\n",
      "  arg {\n",
      "    name: \"shape\"\n",
      "    ints: 10\n",
      "  }\n",
      "}\n",
      "\n"
     ]
    }
   ],
   "source": [
    "print m.param_init_net.Proto()"
   ]
  },
  {
   "cell_type": "markdown",
   "metadata": {},
   "source": [
    "### Executing"
   ]
  },
  {
   "cell_type": "code",
   "execution_count": 17,
   "metadata": {},
   "outputs": [],
   "source": [
    "# Run once the param initialization and create the actual training Net\n",
    "workspace.RunNetOnce(m.param_init_net)\n",
    "workspace.CreateNet(m.net, overwrite=True)\n",
    "# Run 100 x 10 iter\n",
    "for _ in range(1000):\n",
    "    data = np.random.rand(16,100).astype(np.float32)\n",
    "    label = (np.random.rand(16)*10).astype(np.int32)\n",
    "    workspace.FeedBlob('data', data)\n",
    "    workspace.FeedBlob('label', label)\n",
    "    workspace.RunNet(m.name, 10)"
   ]
  },
  {
   "cell_type": "code",
   "execution_count": 18,
   "metadata": {},
   "outputs": [
    {
     "name": "stdout",
     "output_type": "stream",
     "text": [
      "2.269385\n"
     ]
    }
   ],
   "source": [
    "# print workspace.FetchBlob('softmax')\n",
    "print workspace.FetchBlob('loss')"
   ]
  }
 ],
 "metadata": {
  "kernelspec": {
   "display_name": "Python 2",
   "language": "python",
   "name": "python2"
  },
  "language_info": {
   "codemirror_mode": {
    "name": "ipython",
    "version": 2
   },
   "file_extension": ".py",
   "mimetype": "text/x-python",
   "name": "python",
   "nbconvert_exporter": "python",
   "pygments_lexer": "ipython2",
   "version": "2.7.12"
  }
 },
 "nbformat": 4,
 "nbformat_minor": 2
}
