{
 "cells": [
  {
   "cell_type": "code",
   "execution_count": 1,
   "metadata": {
    "scrolled": true
   },
   "outputs": [
    {
     "name": "stdout",
     "output_type": "stream",
     "text": [
      "   a   b   c\n",
      "0  0   0   0\n",
      "1  1   2   3\n",
      "2  2   4   6\n",
      "3  3   6   9\n",
      "4  4   8  12\n",
      "5  5  10  15\n",
      "6  6  12  18\n",
      "7  7  14  21\n",
      "8  8  16  24\n",
      "9  9  18  27\n",
      "   a   b   c\n",
      "6  6  12  18\n",
      "7  7  14  21\n",
      "8  8  16  24\n",
      "9  9  18  27\n"
     ]
    }
   ],
   "source": [
    "import pandas as pd\n",
    "import numpy as np\n",
    "a = np.arange(10)\n",
    "b = np.arange(10)*2\n",
    "c = np.arange(10)*3\n",
    "df = pd.DataFrame({'a':a, 'b':b, 'c':c})\n",
    "print df\n",
    "print df[df['a']>5]"
   ]
  },
  {
   "cell_type": "code",
   "execution_count": 3,
   "metadata": {},
   "outputs": [
    {
     "name": "stdout",
     "output_type": "stream",
     "text": [
      "a : 1\n",
      "c : 3\n",
      "b : 2\n"
     ]
    }
   ],
   "source": [
    "d = {'a':1, 'b':2, 'c':3}\n",
    "for key,value in d.items():\n",
    "    print key,':',value"
   ]
  },
  {
   "cell_type": "code",
   "execution_count": 4,
   "metadata": {},
   "outputs": [
    {
     "name": "stdout",
     "output_type": "stream",
     "text": [
      "[[0 1 2]\n",
      " [3 4 5]\n",
      " [6 7 8]]\n"
     ]
    }
   ],
   "source": [
    "a = np.arange(9).reshape((3,3))\n",
    "print a"
   ]
  },
  {
   "cell_type": "code",
   "execution_count": 7,
   "metadata": {},
   "outputs": [
    {
     "name": "stdout",
     "output_type": "stream",
     "text": [
      "[0 0 2] (3,)\n",
      "[[3 4 5]] (1, 3)\n",
      "[[0 0 2]\n",
      " [3 0 5]\n",
      " [6 7 8]]\n"
     ]
    }
   ],
   "source": [
    "a_row1 = a[0, :]\n",
    "a_row2 = a[1:2, :]\n",
    "print a_row1, a_row1.shape\n",
    "print a_row2, a_row2.shape\n",
    "a_row1[1] = 0\n",
    "a_row2[0, 1] = 0\n",
    "print a"
   ]
  },
  {
   "cell_type": "code",
   "execution_count": 8,
   "metadata": {},
   "outputs": [
    {
     "name": "stdout",
     "output_type": "stream",
     "text": [
      "[2 0 6]\n",
      "[[0 0 2]\n",
      " [3 0 5]\n",
      " [6 7 8]]\n"
     ]
    }
   ],
   "source": [
    "b_int_idx = a[[0, 1, 2], [2, 1, 0]]\n",
    "print b_int_idx\n",
    "b_int_idx[0] = 0\n",
    "print a"
   ]
  },
  {
   "cell_type": "code",
   "execution_count": 10,
   "metadata": {},
   "outputs": [
    {
     "name": "stdout",
     "output_type": "stream",
     "text": [
      "[[False False False]\n",
      " [False False  True]\n",
      " [ True  True  True]]\n",
      "[5 6 7 8]\n",
      "[[0 0 2]\n",
      " [3 0 5]\n",
      " [6 7 8]]\n"
     ]
    }
   ],
   "source": [
    "bool_idx = a>3\n",
    "print bool_idx\n",
    "b = a[bool_idx]\n",
    "print b\n",
    "b[0] =0 \n",
    "print a"
   ]
  },
  {
   "cell_type": "markdown",
   "metadata": {},
   "source": [
    "### v = np.array([[1, 2, 3]])\n",
    "print v.shape\n",
    "print v.T"
   ]
  }
 ],
 "metadata": {
  "kernelspec": {
   "display_name": "Python 2",
   "language": "python",
   "name": "python2"
  },
  "language_info": {
   "codemirror_mode": {
    "name": "ipython",
    "version": 2
   },
   "file_extension": ".py",
   "mimetype": "text/x-python",
   "name": "python",
   "nbconvert_exporter": "python",
   "pygments_lexer": "ipython2",
   "version": "2.7.12"
  }
 },
 "nbformat": 4,
 "nbformat_minor": 2
}
