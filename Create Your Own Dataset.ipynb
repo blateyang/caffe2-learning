{
 "cells": [
  {
   "cell_type": "markdown",
   "metadata": {},
   "source": [
    "The data format of caffe2 is DB(lmdb,minidb,etc), a key-value storage mode. Key is randomly generated and Value is real data"
   ]
  },
  {
   "cell_type": "code",
   "execution_count": 1,
   "metadata": {},
   "outputs": [],
   "source": [
    "%matplotlib inline\n",
    "import urllib2 # used for download data from the Internet\n",
    "import numpy as np\n",
    "import matplotlib.pyplot as plt\n",
    "from StringIO import StringIO\n",
    "from caffe2.python import core,utils,workspace\n",
    "from caffe2.proto import caffe2_pb2"
   ]
  },
  {
   "cell_type": "code",
   "execution_count": 5,
   "metadata": {},
   "outputs": [
    {
     "name": "stdout",
     "output_type": "stream",
     "text": [
      "Raw data looks like this:\n",
      "<type 'str'>\n",
      "5.1,3.5,1.4,0.2,Iris-setosa\n",
      "4.9,3.0,1.4,0.2,Iris-setosa\n",
      "4.7,3.2,1.3,0.2,Iris-setosa\n",
      "4.6,3.1,1.5,0.2,...\n"
     ]
    }
   ],
   "source": [
    "f = urllib2.urlopen('https://archive.ics.uci.edu/ml/machine-learning-databases/iris/iris.data')\n",
    "raw_data = f.read()\n",
    "print('Raw data looks like this:')\n",
    "print(type(raw_data))\n",
    "print(raw_data[:100] + '...')"
   ]
  },
  {
   "cell_type": "code",
   "execution_count": 10,
   "metadata": {},
   "outputs": [
    {
     "name": "stdout",
     "output_type": "stream",
     "text": [
      "[0 0 0 0 0 0 0 0 0 0 0 0 0 0 0 0 0 0 0 0 0 0 0 0 0 0 0 0 0 0 0 0 0 0 0 0 0\n",
      " 0 0 0 0 0 0 0 0 0 0 0 0 0 1 1 1 1 1 1 1 1 1 1 1 1 1 1 1 1 1 1 1 1 1 1 1 1\n",
      " 1 1 1 1 1 1 1 1 1 1 1 1 1 1 1 1 1 1 1 1 1 1 1 1 1 1 2 2 2 2 2 2 2 2 2 2 2\n",
      " 2 2 2 2 2 2 2 2 2 2 2 2 2 2 2 2 2 2 2 2 2 2 2 2 2 2 2 2 2 2 2 2 2 2 2 2 2\n",
      " 2 2]\n"
     ]
    }
   ],
   "source": [
    "# StringIO object is just like a file object initialized by raw_data\n",
    "features = np.loadtxt(StringIO(raw_data),dtype=np.float32, delimiter=',',usecols=(0, 1, 2, 3))\n",
    "label_converter = lambda s : {'Iris-setosa':0, 'Iris-versicolor':1, 'Iris-virginica':2}[s] # return value of dict according to its key s\n",
    "# print label_converter('Iris-setosa')\n",
    "labels = np.loadtxt(StringIO(raw_data), dtype=np.int, delimiter=',', usecols=(4,), converters={4: label_converter}) # 'converters' param convert the value of the 4th col into label\n",
    "# print labels"
   ]
  },
  {
   "cell_type": "code",
   "execution_count": 16,
   "metadata": {},
   "outputs": [
    {
     "data": {
      "image/png": "[encoded data removed]",
      "text/plain": [
       "<matplotlib.figure.Figure at 0x7efef9624910>"
      ]
     },
     "metadata": {},
     "output_type": "display_data"
    },
    {
     "data": {
      "image/png": "[encoded data removed]",
      "text/plain": [
       "<matplotlib.figure.Figure at 0x7eff2d460c50>"
      ]
     },
     "metadata": {},
     "output_type": "display_data"
    }
   ],
   "source": [
    "# Split the Iris dataset into train/val\n",
    "random_index = np.random.permutation(150)\n",
    "features = features[random_index]\n",
    "labels = labels[random_index]\n",
    "train_features = features[:100]\n",
    "train_labels = labels[:100]\n",
    "test_features = features[100:]\n",
    "test_labels = labels[100:]\n",
    "# Visualize train/val data\n",
    "legend = ['rx', 'b+', 'go']\n",
    "plt.title(\"Training dataset distribution, x0 and x1\")\n",
    "for i in range(3):\n",
    "    plt.plot(train_features[train_labels == i, 0], train_features[train_labels == i, 1], legend[i])\n",
    "plt.figure()\n",
    "plt.title(\"Test dataset distribution, x0 and x1\")\n",
    "for i in range(3):\n",
    "    plt.plot(test_features[test_labels == i, 0], test_features[test_labels == i, 1], legend[i])"
   ]
  },
  {
   "cell_type": "code",
   "execution_count": 17,
   "metadata": {},
   "outputs": [
    {
     "name": "stdout",
     "output_type": "stream",
     "text": [
      "This is what the tensor proto looks like for a feature and its label:\n",
      "protos {\n",
      "  dims: 4\n",
      "  data_type: FLOAT\n",
      "  float_data: 5.80000019073\n",
      "  float_data: 2.70000004768\n",
      "  float_data: 4.09999990463\n",
      "  float_data: 1.0\n",
      "}\n",
      "protos {\n",
      "  data_type: INT32\n",
      "  int32_data: 1\n",
      "}\n",
      "\n",
      "This is the compact string that gets written into the db:\n",
      "\n",
      "\u0016\b\u0004\u0010\u0001\u001a\u0010���@��,@33�@\u0000\u0000�?\n",
      "\u0005\u0010\u0002\"\u0001\u0001\n"
     ]
    }
   ],
   "source": [
    "# First, let's see how one can construct a TensorProtos protocol buffer from numpy arrays.\n",
    "feature_and_label = caffe2_pb2.TensorProtos()\n",
    "feature_and_label.protos.extend([\n",
    "    utils.NumpyArrayToCaffe2Tensor(features[0]),\n",
    "    utils.NumpyArrayToCaffe2Tensor(labels[0])])\n",
    "print('This is what the tensor proto looks like for a feature and its label:')\n",
    "print(str(feature_and_label))\n",
    "print('This is the compact string that gets written into the db:')\n",
    "print(feature_and_label.SerializeToString())"
   ]
  },
  {
   "cell_type": "code",
   "execution_count": 23,
   "metadata": {},
   "outputs": [],
   "source": [
    "def write_db(db_type, db_name, features, labels):\n",
    "    db = core.C.create_db(db_type, db_name, core.C.Mode.write)\n",
    "    transaction = db.new_transaction()\n",
    "    for i in range(features.shape[0]):\n",
    "        feature_and_label = caffe2_pb2.TensorProtos()\n",
    "        feature_and_label.protos.extend([utils.NumpyArrayToCaffe2Tensor(features[i]),\n",
    "                                       utils.NumpyArrayToCaffe2Tensor(labels[i])])\n",
    "        transaction.put('train_%3d' %i, feature_and_label.SerializeToString()) # train_i is DB key,feature_and_label is DB value\n",
    "    # Close the transaction, and then close the db\n",
    "    del transaction\n",
    "    del db\n",
    "\n",
    "write_db('minidb', 'iris_train.minidb', train_features, train_labels)\n",
    "write_db('minidb', 'iris_test.minidb', test_features, test_labels)"
   ]
  },
  {
   "cell_type": "code",
   "execution_count": 3,
   "metadata": {},
   "outputs": [
    {
     "name": "stdout",
     "output_type": "stream",
     "text": [
      "The net looks like this:\n",
      "name: \"example_reader\"\n",
      "op {\n",
      "  output: \"dbreader\"\n",
      "  name: \"\"\n",
      "  type: \"CreateDB\"\n",
      "  arg {\n",
      "    name: \"db_type\"\n",
      "    s: \"minidb\"\n",
      "  }\n",
      "  arg {\n",
      "    name: \"db\"\n",
      "    s: \"iris_train.minidb\"\n",
      "  }\n",
      "}\n",
      "op {\n",
      "  input: \"dbreader\"\n",
      "  output: \"X\"\n",
      "  output: \"Y\"\n",
      "  name: \"\"\n",
      "  type: \"TensorProtosDBInput\"\n",
      "  arg {\n",
      "    name: \"batch_size\"\n",
      "    i: 16\n",
      "  }\n",
      "}\n",
      "\n"
     ]
    }
   ],
   "source": [
    "# Create a net to input iris minidb \n",
    "net_proto = core.Net('example_reader')\n",
    "dbreader = net_proto.CreateDB([], 'dbreader', db='iris_train.minidb', db_type='minidb')\n",
    "net_proto.TensorProtosDBInput([dbreader], ['X', 'Y'], batch_size=16)\n",
    "\n",
    "print \"The net looks like this:\"\n",
    "print(str(net_proto.Proto()))"
   ]
  },
  {
   "cell_type": "code",
   "execution_count": 6,
   "metadata": {},
   "outputs": [
    {
     "name": "stdout",
     "output_type": "stream",
     "text": [
      "The first batch of feature is:\n",
      "[[5.8 2.7 4.1 1. ]\n",
      " [4.4 2.9 1.4 0.2]\n",
      " [7.4 2.8 6.1 1.9]\n",
      " [6.9 3.2 5.7 2.3]\n",
      " [5.8 4.  1.2 0.2]\n",
      " [6.2 2.8 4.8 1.8]\n",
      " [7.2 3.6 6.1 2.5]\n",
      " [5.  2.3 3.3 1. ]\n",
      " [5.1 3.8 1.6 0.2]\n",
      " [5.5 4.2 1.4 0.2]\n",
      " [5.2 3.5 1.5 0.2]\n",
      " [6.6 2.9 4.6 1.3]\n",
      " [6.3 2.8 5.1 1.5]\n",
      " [5.  3.4 1.5 0.2]\n",
      " [6.3 2.3 4.4 1.3]\n",
      " [4.4 3.  1.3 0.2]]\n",
      "The first batch of label is:\n",
      "[1 0 2 2 0 2 2 1 0 0 0 1 2 0 1 0]\n"
     ]
    }
   ],
   "source": [
    "workspace.CreateNet(net_proto, overwrite=True)\n",
    "# Run first time to get first batch of data\n",
    "workspace.RunNet(net_proto)\n",
    "print(\"The first batch of feature is:\")\n",
    "print workspace.FetchBlob('X')\n",
    "print(\"The first batch of label is:\")\n",
    "print workspace.FetchBlob('Y')"
   ]
  }
 ],
 "metadata": {
  "kernelspec": {
   "display_name": "Python 2",
   "language": "python",
   "name": "python2"
  },
  "language_info": {
   "codemirror_mode": {
    "name": "ipython",
    "version": 2
   },
   "file_extension": ".py",
   "mimetype": "text/x-python",
   "name": "python",
   "nbconvert_exporter": "python",
   "pygments_lexer": "ipython2",
   "version": "2.7.12"
  }
 },
 "nbformat": 4,
 "nbformat_minor": 2
}
